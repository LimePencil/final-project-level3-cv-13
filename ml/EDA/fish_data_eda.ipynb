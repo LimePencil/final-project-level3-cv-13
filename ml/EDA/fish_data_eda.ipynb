{
 "cells": [
  {
   "cell_type": "markdown",
   "metadata": {},
   "source": [
    "# Fish Dataset EDA"
   ]
  },
  {
   "cell_type": "markdown",
   "metadata": {},
   "source": [
    "### import library"
   ]
  },
  {
   "cell_type": "code",
   "execution_count": null,
   "metadata": {},
   "outputs": [],
   "source": [
    "import plotly\n",
    "import matplotlib.pyplot as plt\n",
    "import numpy as np\n",
    "import PIL\n",
    "import os.path as osp\n",
    "import pandas as pd\n"
   ]
  },
  {
   "cell_type": "markdown",
   "metadata": {},
   "source": [
    "### 경로 설정"
   ]
  },
  {
   "cell_type": "code",
   "execution_count": null,
   "metadata": {},
   "outputs": [],
   "source": [
    "#csv_path\n",
    "csv_path = '/opt/ml/final-project-level3-cv-13/Data/Fish/Fish_dataset/output/analysis_csv'\n",
    "train_csv_path = osp.join(csv_path, 'train.csv')\n",
    "valid_csv_path = osp.join(csv_path, 'valid.csv')\n",
    "\n",
    "#image_path\n",
    "image_path = '/opt/ml/final-project-level3-cv-13/Data/Fish/Fish_dataset/output/crop_image'\n",
    "train_image_path = osp.join(image_path, 'dtset1')\n",
    "valid_image_path = osp.join(image_path, 'val_images')\n",
    "\n",
    "#json_path\n",
    "json_path = '/opt/ml/final-project-level3-cv-13/Data/Fish/Fish_dataset/output/new_json_set'\n",
    "train_json_path = osp.join(json_path, '[new]_gbt_fish_dtset1.json')\n",
    "valid_json_path = osp.join(json_path, '[new]_gbt_fish_dtset_val_images.json')"
   ]
  },
  {
   "cell_type": "code",
   "execution_count": null,
   "metadata": {},
   "outputs": [],
   "source": [
    "\n",
    "# 카테고리 별 이미지 크기\n",
    "# 카테고리, 이미지 별 rgb 분포값 (3차원) -> 의미가 있을까?\n",
    "\n",
    "# validation EDA 입력 -> 결과"
   ]
  },
  {
   "cell_type": "markdown",
   "metadata": {},
   "source": [
    "### 카테고리 별 개수"
   ]
  },
  {
   "cell_type": "code",
   "execution_count": null,
   "metadata": {},
   "outputs": [],
   "source": [
    "train_csv = pd.read_csv(train_csv_path)\n",
    "valid_csv = pd.read_csv(valid_csv_path)"
   ]
  },
  {
   "cell_type": "code",
   "execution_count": null,
   "metadata": {},
   "outputs": [],
   "source": [
    "train_cnt = train_csv['categories_id'].value_counts().sort_index()\n",
    "print(len(train_csv))"
   ]
  },
  {
   "cell_type": "code",
   "execution_count": null,
   "metadata": {},
   "outputs": [],
   "source": [
    "valid_cnt = valid_csv['categories_id'].value_counts().sort_index()"
   ]
  },
  {
   "cell_type": "code",
   "execution_count": null,
   "metadata": {},
   "outputs": [],
   "source": [
    "fig = plt.figure(figsize = (12, 6))\n",
    "gs = fig.add_gridspec(1, 2)\n",
    "\n",
    "ax = fig.add_subplot(gs[0:1])\n",
    "ax2 = fig.add_subplot(gs[1:2])\n",
    "\n",
    "ax.bar(train_cnt.index, train_cnt, color=['#d4dddd' if i%2==0 else '#fafafa' for i in range(9)],\n",
    "        width=0.55, \n",
    "        edgecolor='black', \n",
    "        linewidth=0.7)\n",
    "ax2.bar(valid_cnt.index, valid_cnt, color=['#d4dddd' if i%2==0 else '#fafafa' for i in range(9)],\n",
    "        width=0.55, \n",
    "        edgecolor='black', \n",
    "        linewidth=0.7)\n",
    "\n",
    "for i in range(5):\n",
    "    ax.annotate(f'{train_cnt[i]}({train_cnt[i]/len(train_csv)*100:.3}%)', xy=(i, train_cnt[i]+30),\n",
    "                   va='center', ha='center',\n",
    "               )\n",
    "    ax2.annotate(f'{valid_cnt[i]}({valid_cnt[i]/len(valid_csv)*100:.3}%)', xy=(i, valid_cnt[i]+3),\n",
    "                   va='center', ha='center',\n",
    "               )\n",
    "\n",
    "ax.set_title('Train image count', weight='bold', fontsize=15)\n",
    "ax.grid(axis='y', linestyle='-', alpha=0.4)\n",
    "\n",
    "ax2.set_title('Valid image count', weight='bold', fontsize=15)\n",
    "ax2.grid(axis='y', linestyle='-', alpha=0.4)\n",
    "\n",
    "\n",
    "\n",
    "fig.tight_layout()\n",
    "plt.show()"
   ]
  },
  {
   "cell_type": "markdown",
   "metadata": {},
   "source": [
    "### 카테고리 별 이미지 크기"
   ]
  },
  {
   "cell_type": "code",
   "execution_count": null,
   "metadata": {},
   "outputs": [],
   "source": [
    "train_json = pd.read_json(train_json_path)\n",
    "train_json = train_json.transpose()\n",
    "train_json['width'] = 0\n",
    "train_json['height'] = 0\n",
    "valid_json = pd.read_json(valid_json_path)\n",
    "valid_json = valid_json.transpose()\n",
    "valid_json['width'] = 0\n",
    "valid_json['height'] = 0"
   ]
  },
  {
   "cell_type": "code",
   "execution_count": null,
   "metadata": {},
   "outputs": [],
   "source": [
    "for i in range(len(train_json)):\n",
    "    train_json['width'][i] = train_json['bbox'][i][2]\n",
    "    train_json['height'][i] = train_json['bbox'][i][3]\n",
    "for i in range(len(valid_json)):\n",
    "    valid_json['width'][i] = valid_json['bbox'][i][2]\n",
    "    valid_json['height'][i] = valid_json['bbox'][i][3]\n",
    "    "
   ]
  },
  {
   "cell_type": "code",
   "execution_count": null,
   "metadata": {},
   "outputs": [],
   "source": [
    "train_json['width']['height']"
   ]
  },
  {
   "cell_type": "code",
   "execution_count": null,
   "metadata": {},
   "outputs": [],
   "source": [
    "fig = plt.figure(figsize = (12, 6))\n",
    "gs = fig.add_gridspec(1, 2)\n",
    "\n",
    "ax = fig.add_subplot(gs[0:1])\n",
    "ax2 = fig.add_subplot(gs[1:2])\n",
    "\n",
    "ax.scatter(train_json['width'], train_json['height'],\n",
    "        edgecolor='black', \n",
    "        linewidth=0.7)\n",
    "ax2.scatter(valid_json['width'], valid_json['height'],\n",
    "        edgecolor='black', \n",
    "        linewidth=0.7)\n",
    "\n",
    "\n",
    "colors = {'1.0':'red', 'Korea rockfish':'green', 'Asia':'blue', 'Australia':'yellow'}\n",
    "ax.set_title('Train image count', weight='bold', fontsize=15)\n",
    "ax.grid(axis='y', linestyle='-', alpha=0.4)\n",
    "\n",
    "ax2.set_title('Valid image count', weight='bold', fontsize=15)\n",
    "ax2.grid(axis='y', linestyle='-', alpha=0.4)\n",
    "\n",
    "\n",
    "\n",
    "fig.tight_layout()\n",
    "plt.show()"
   ]
  },
  {
   "cell_type": "code",
   "execution_count": null,
   "metadata": {},
   "outputs": [],
   "source": []
  }
 ],
 "metadata": {
  "kernelspec": {
   "display_name": "Python 3.8.15 ('base')",
   "language": "python",
   "name": "python3"
  },
  "language_info": {
   "codemirror_mode": {
    "name": "ipython",
    "version": 3
   },
   "file_extension": ".py",
   "mimetype": "text/x-python",
   "name": "python",
   "nbconvert_exporter": "python",
   "pygments_lexer": "ipython3",
   "version": "3.8.15"
  },
  "orig_nbformat": 4,
  "vscode": {
   "interpreter": {
    "hash": "d4d1e4263499bec80672ea0156c357c1ee493ec2b1c70f0acce89fc37c4a6abe"
   }
  }
 },
 "nbformat": 4,
 "nbformat_minor": 2
}
