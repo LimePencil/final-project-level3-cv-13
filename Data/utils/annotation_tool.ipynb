{
 "cells": [
  {
   "cell_type": "code",
   "execution_count": 42,
   "metadata": {},
   "outputs": [
    {
     "data": {
      "application/vnd.jupyter.widget-view+json": {
       "model_id": "c51415996bfe4884aff139160eb05d73",
       "version_major": 2,
       "version_minor": 0
      },
      "text/plain": [
       "HTML(value='0 examples annotated, 3 examples left')"
      ]
     },
     "metadata": {},
     "output_type": "display_data"
    },
    {
     "data": {
      "application/vnd.jupyter.widget-view+json": {
       "model_id": "4a0a892abc3146b793d5ac9a6aafeffc",
       "version_major": 2,
       "version_minor": 0
      },
      "text/plain": [
       "HBox(children=(Button(description='광어', style=ButtonStyle()), Button(description='skip', style=ButtonStyle()))…"
      ]
     },
     "metadata": {},
     "output_type": "display_data"
    },
    {
     "data": {
      "application/vnd.jupyter.widget-view+json": {
       "model_id": "600705a6160143eea017f74c5e39afdf",
       "version_major": 2,
       "version_minor": 0
      },
      "text/plain": [
       "Output()"
      ]
     },
     "metadata": {},
     "output_type": "display_data"
    },
    {
     "name": "stdout",
     "output_type": "stream",
     "text": [
      "Annotation done.\n"
     ]
    }
   ],
   "source": [
    "# 작동원리: 꼭 주석 다 읽어보세요\n",
    "\n",
    "# 1. 밑에 바꿀 부분을 설정해준다\n",
    "# 2. 첫번째 스크립트를 실행하고 끝까지 돌린다\n",
    "# 3. 다 돌렸으면(\"Annotation done.\" 이라 떠야함) 두번째 스크립트를 돌린다\n",
    "# 4. 사진이 다 사라질때까지 2번과 3번을 반복한다\n",
    "\n",
    "\n",
    "\n",
    "# pip install pigeon-jupyter\n",
    "from pigeon import annotate\n",
    "from IPython.display import display, Image\n",
    "import os\n",
    "import pandas as pd\n",
    "\n",
    "####################################\n",
    "# 바꿀 부분\n",
    "\n",
    "# 이미지 위치\n",
    "PATH=\"/opt/ml/test_images\"\n",
    "# 저장할 위치\n",
    "SAVE_PATH=\"/opt/ml/save_image\"\n",
    "# 레이블\n",
    "NAME=\"광어\"\n",
    "# 한번에 처리할 이미지들 (중간에 멈추면 다시 해야하기 때문에 크지 않게 설정)\n",
    "NUM=100\n",
    "####################################\n",
    "if not os.path.exists(SAVE_PATH):\n",
    "  os.makedirs(SAVE_PATH)\n",
    "\n",
    "files=[]\n",
    "for file in os.listdir(PATH):\n",
    "  files.append(os.path.join(PATH,file))\n",
    "  if len(files)>NUM:\n",
    "    break\n",
    "\n",
    "annotations = annotate(\n",
    "  files,\n",
    "  options=[NAME],\n",
    "  display_fn=lambda filename: display(Image(filename))\n",
    ")"
   ]
  },
  {
   "cell_type": "code",
   "execution_count": 43,
   "metadata": {},
   "outputs": [],
   "source": [
    "# 위에서 Annotation done. 이라고 뜨기 전까지는 하지 않기\n",
    "import shutil\n",
    "import secrets\n",
    "if os.path.exists(SAVE_PATH+\"/label.csv\"):\n",
    "    df=pd.read_csv(SAVE_PATH+\"/label.csv\")\n",
    "else:\n",
    "    df = pd.DataFrame(columns=[\"img_name\",\"label\"])\n",
    "\n",
    "# starting number of file\n",
    "idx=0\n",
    "for v,n in annotations:\n",
    "    new_name=secrets.token_hex(30)+os.path.splitext(v)[1]\n",
    "    shutil.move(v,os.path.join(SAVE_PATH,new_name))\n",
    "    df_new=pd.DataFrame({\"img_name\":[new_name],\"label\":[NAME]})\n",
    "    df=pd.concat((df,df_new),ignore_index=True)\n",
    "    idx+=1\n",
    "df.to_csv(SAVE_PATH+\"/label.csv\",index=False)\n",
    "\n",
    "# remove skipped file\n",
    "for f in files:\n",
    "    if os.path.exists(f):\n",
    "        os.remove(f)"
   ]
  }
 ],
 "metadata": {
  "kernelspec": {
   "display_name": "Python 3 (ipykernel)",
   "language": "python",
   "name": "python3"
  },
  "language_info": {
   "codemirror_mode": {
    "name": "ipython",
    "version": 3
   },
   "file_extension": ".py",
   "mimetype": "text/x-python",
   "name": "python",
   "nbconvert_exporter": "python",
   "pygments_lexer": "ipython3",
   "version": "3.8.5"
  },
  "vscode": {
   "interpreter": {
    "hash": "d4d1e4263499bec80672ea0156c357c1ee493ec2b1c70f0acce89fc37c4a6abe"
   }
  }
 },
 "nbformat": 4,
 "nbformat_minor": 4
}
